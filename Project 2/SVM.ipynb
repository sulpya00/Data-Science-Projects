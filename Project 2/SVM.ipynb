{
 "cells": [
  {
   "cell_type": "code",
   "execution_count": 1,
   "metadata": {},
   "outputs": [],
   "source": [
    "#importing\n",
    "import numpy as np\n",
    "import pandas as pd\n",
    "import math\n",
    "import operator\n",
    "import matplotlib.pyplot as plt\n",
    "from sklearn.datasets import load_iris"
   ]
  },
  {
   "cell_type": "code",
   "execution_count": 2,
   "metadata": {},
   "outputs": [],
   "source": [
    "# reading data from iris.data\n",
    "col=['sepal_length','sepal_width','petal_length','petal_width','class']\n",
    "iris=pd.read_csv(\"iris.data\",names=col)"
   ]
  },
  {
   "cell_type": "code",
   "execution_count": 3,
   "metadata": {
    "scrolled": true
   },
   "outputs": [
    {
     "data": {
      "text/html": [
       "<div>\n",
       "<style scoped>\n",
       "    .dataframe tbody tr th:only-of-type {\n",
       "        vertical-align: middle;\n",
       "    }\n",
       "\n",
       "    .dataframe tbody tr th {\n",
       "        vertical-align: top;\n",
       "    }\n",
       "\n",
       "    .dataframe thead th {\n",
       "        text-align: right;\n",
       "    }\n",
       "</style>\n",
       "<table border=\"1\" class=\"dataframe\">\n",
       "  <thead>\n",
       "    <tr style=\"text-align: right;\">\n",
       "      <th></th>\n",
       "      <th>sepal_length</th>\n",
       "      <th>sepal_width</th>\n",
       "      <th>petal_length</th>\n",
       "      <th>petal_width</th>\n",
       "      <th>class</th>\n",
       "    </tr>\n",
       "  </thead>\n",
       "  <tbody>\n",
       "    <tr>\n",
       "      <th>118</th>\n",
       "      <td>7.7</td>\n",
       "      <td>2.6</td>\n",
       "      <td>6.9</td>\n",
       "      <td>2.3</td>\n",
       "      <td>Iris-virginica</td>\n",
       "    </tr>\n",
       "    <tr>\n",
       "      <th>65</th>\n",
       "      <td>6.7</td>\n",
       "      <td>3.1</td>\n",
       "      <td>4.4</td>\n",
       "      <td>1.4</td>\n",
       "      <td>Iris-versicolor</td>\n",
       "    </tr>\n",
       "    <tr>\n",
       "      <th>114</th>\n",
       "      <td>5.8</td>\n",
       "      <td>2.8</td>\n",
       "      <td>5.1</td>\n",
       "      <td>2.4</td>\n",
       "      <td>Iris-virginica</td>\n",
       "    </tr>\n",
       "    <tr>\n",
       "      <th>48</th>\n",
       "      <td>5.3</td>\n",
       "      <td>3.7</td>\n",
       "      <td>1.5</td>\n",
       "      <td>0.2</td>\n",
       "      <td>Iris-setosa</td>\n",
       "    </tr>\n",
       "    <tr>\n",
       "      <th>134</th>\n",
       "      <td>6.1</td>\n",
       "      <td>2.6</td>\n",
       "      <td>5.6</td>\n",
       "      <td>1.4</td>\n",
       "      <td>Iris-virginica</td>\n",
       "    </tr>\n",
       "    <tr>\n",
       "      <th>86</th>\n",
       "      <td>6.7</td>\n",
       "      <td>3.1</td>\n",
       "      <td>4.7</td>\n",
       "      <td>1.5</td>\n",
       "      <td>Iris-versicolor</td>\n",
       "    </tr>\n",
       "    <tr>\n",
       "      <th>130</th>\n",
       "      <td>7.4</td>\n",
       "      <td>2.8</td>\n",
       "      <td>6.1</td>\n",
       "      <td>1.9</td>\n",
       "      <td>Iris-virginica</td>\n",
       "    </tr>\n",
       "    <tr>\n",
       "      <th>92</th>\n",
       "      <td>5.8</td>\n",
       "      <td>2.6</td>\n",
       "      <td>4.0</td>\n",
       "      <td>1.2</td>\n",
       "      <td>Iris-versicolor</td>\n",
       "    </tr>\n",
       "    <tr>\n",
       "      <th>146</th>\n",
       "      <td>6.3</td>\n",
       "      <td>2.5</td>\n",
       "      <td>5.0</td>\n",
       "      <td>1.9</td>\n",
       "      <td>Iris-virginica</td>\n",
       "    </tr>\n",
       "    <tr>\n",
       "      <th>9</th>\n",
       "      <td>4.9</td>\n",
       "      <td>3.1</td>\n",
       "      <td>1.5</td>\n",
       "      <td>0.1</td>\n",
       "      <td>Iris-setosa</td>\n",
       "    </tr>\n",
       "  </tbody>\n",
       "</table>\n",
       "</div>"
      ],
      "text/plain": [
       "     sepal_length  sepal_width  petal_length  petal_width            class\n",
       "118           7.7          2.6           6.9          2.3   Iris-virginica\n",
       "65            6.7          3.1           4.4          1.4  Iris-versicolor\n",
       "114           5.8          2.8           5.1          2.4   Iris-virginica\n",
       "48            5.3          3.7           1.5          0.2      Iris-setosa\n",
       "134           6.1          2.6           5.6          1.4   Iris-virginica\n",
       "86            6.7          3.1           4.7          1.5  Iris-versicolor\n",
       "130           7.4          2.8           6.1          1.9   Iris-virginica\n",
       "92            5.8          2.6           4.0          1.2  Iris-versicolor\n",
       "146           6.3          2.5           5.0          1.9   Iris-virginica\n",
       "9             4.9          3.1           1.5          0.1      Iris-setosa"
      ]
     },
     "execution_count": 3,
     "metadata": {},
     "output_type": "execute_result"
    }
   ],
   "source": [
    "iris.sample(10)"
   ]
  },
  {
   "cell_type": "code",
   "execution_count": 4,
   "metadata": {},
   "outputs": [],
   "source": [
    "####\n",
    "iris = load_iris()"
   ]
  },
  {
   "cell_type": "code",
   "execution_count": 5,
   "metadata": {},
   "outputs": [
    {
     "data": {
      "text/plain": [
       "sklearn.utils.Bunch"
      ]
     },
     "execution_count": 5,
     "metadata": {},
     "output_type": "execute_result"
    }
   ],
   "source": [
    "####\n",
    "type(iris)"
   ]
  },
  {
   "cell_type": "code",
   "execution_count": 6,
   "metadata": {},
   "outputs": [
    {
     "name": "stdout",
     "output_type": "stream",
     "text": [
      "['sepal length (cm)', 'sepal width (cm)', 'petal length (cm)', 'petal width (cm)']\n"
     ]
    }
   ],
   "source": [
    "#print feature name\n",
    "print(iris.feature_names)"
   ]
  },
  {
   "cell_type": "code",
   "execution_count": 7,
   "metadata": {},
   "outputs": [
    {
     "name": "stdout",
     "output_type": "stream",
     "text": [
      "[0 0 0 0 0 0 0 0 0 0 0 0 0 0 0 0 0 0 0 0 0 0 0 0 0 0 0 0 0 0 0 0 0 0 0 0 0\n",
      " 0 0 0 0 0 0 0 0 0 0 0 0 0 1 1 1 1 1 1 1 1 1 1 1 1 1 1 1 1 1 1 1 1 1 1 1 1\n",
      " 1 1 1 1 1 1 1 1 1 1 1 1 1 1 1 1 1 1 1 1 1 1 1 1 1 1 2 2 2 2 2 2 2 2 2 2 2\n",
      " 2 2 2 2 2 2 2 2 2 2 2 2 2 2 2 2 2 2 2 2 2 2 2 2 2 2 2 2 2 2 2 2 2 2 2 2 2\n",
      " 2 2]\n"
     ]
    }
   ],
   "source": [
    "#print targer\n",
    "print(iris.target)"
   ]
  },
  {
   "cell_type": "code",
   "execution_count": 8,
   "metadata": {},
   "outputs": [
    {
     "name": "stdout",
     "output_type": "stream",
     "text": [
      "['setosa' 'versicolor' 'virginica']\n"
     ]
    }
   ],
   "source": [
    "#print names\n",
    "print(iris.target_names)"
   ]
  },
  {
   "cell_type": "code",
   "execution_count": 9,
   "metadata": {},
   "outputs": [
    {
     "name": "stdout",
     "output_type": "stream",
     "text": [
      "<class 'numpy.ndarray'>\n",
      "<class 'numpy.ndarray'>\n"
     ]
    }
   ],
   "source": [
    "#print type\n",
    "print(type(iris.data))\n",
    "print(type(iris.target))"
   ]
  },
  {
   "cell_type": "code",
   "execution_count": 10,
   "metadata": {},
   "outputs": [
    {
     "name": "stdout",
     "output_type": "stream",
     "text": [
      "(150, 4)\n"
     ]
    }
   ],
   "source": [
    "#print shape\n",
    "print(iris.data.shape)"
   ]
  },
  {
   "cell_type": "code",
   "execution_count": 11,
   "metadata": {},
   "outputs": [
    {
     "name": "stdout",
     "output_type": "stream",
     "text": [
      "[[5.1 3.5 1.4 0.2]\n",
      " [4.9 3.  1.4 0.2]\n",
      " [4.7 3.2 1.3 0.2]\n",
      " [4.6 3.1 1.5 0.2]\n",
      " [5.  3.6 1.4 0.2]\n",
      " [5.4 3.9 1.7 0.4]\n",
      " [4.6 3.4 1.4 0.3]\n",
      " [5.  3.4 1.5 0.2]\n",
      " [4.4 2.9 1.4 0.2]\n",
      " [4.9 3.1 1.5 0.1]\n",
      " [5.4 3.7 1.5 0.2]\n",
      " [4.8 3.4 1.6 0.2]\n",
      " [4.8 3.  1.4 0.1]\n",
      " [4.3 3.  1.1 0.1]\n",
      " [5.8 4.  1.2 0.2]\n",
      " [5.7 4.4 1.5 0.4]\n",
      " [5.4 3.9 1.3 0.4]\n",
      " [5.1 3.5 1.4 0.3]\n",
      " [5.7 3.8 1.7 0.3]\n",
      " [5.1 3.8 1.5 0.3]\n",
      " [5.4 3.4 1.7 0.2]\n",
      " [5.1 3.7 1.5 0.4]\n",
      " [4.6 3.6 1.  0.2]\n",
      " [5.1 3.3 1.7 0.5]\n",
      " [4.8 3.4 1.9 0.2]\n",
      " [5.  3.  1.6 0.2]\n",
      " [5.  3.4 1.6 0.4]\n",
      " [5.2 3.5 1.5 0.2]\n",
      " [5.2 3.4 1.4 0.2]\n",
      " [4.7 3.2 1.6 0.2]\n",
      " [4.8 3.1 1.6 0.2]\n",
      " [5.4 3.4 1.5 0.4]\n",
      " [5.2 4.1 1.5 0.1]\n",
      " [5.5 4.2 1.4 0.2]\n",
      " [4.9 3.1 1.5 0.2]\n",
      " [5.  3.2 1.2 0.2]\n",
      " [5.5 3.5 1.3 0.2]\n",
      " [4.9 3.6 1.4 0.1]\n",
      " [4.4 3.  1.3 0.2]\n",
      " [5.1 3.4 1.5 0.2]\n",
      " [5.  3.5 1.3 0.3]\n",
      " [4.5 2.3 1.3 0.3]\n",
      " [4.4 3.2 1.3 0.2]\n",
      " [5.  3.5 1.6 0.6]\n",
      " [5.1 3.8 1.9 0.4]\n",
      " [4.8 3.  1.4 0.3]\n",
      " [5.1 3.8 1.6 0.2]\n",
      " [4.6 3.2 1.4 0.2]\n",
      " [5.3 3.7 1.5 0.2]\n",
      " [5.  3.3 1.4 0.2]\n",
      " [7.  3.2 4.7 1.4]\n",
      " [6.4 3.2 4.5 1.5]\n",
      " [6.9 3.1 4.9 1.5]\n",
      " [5.5 2.3 4.  1.3]\n",
      " [6.5 2.8 4.6 1.5]\n",
      " [5.7 2.8 4.5 1.3]\n",
      " [6.3 3.3 4.7 1.6]\n",
      " [4.9 2.4 3.3 1. ]\n",
      " [6.6 2.9 4.6 1.3]\n",
      " [5.2 2.7 3.9 1.4]\n",
      " [5.  2.  3.5 1. ]\n",
      " [5.9 3.  4.2 1.5]\n",
      " [6.  2.2 4.  1. ]\n",
      " [6.1 2.9 4.7 1.4]\n",
      " [5.6 2.9 3.6 1.3]\n",
      " [6.7 3.1 4.4 1.4]\n",
      " [5.6 3.  4.5 1.5]\n",
      " [5.8 2.7 4.1 1. ]\n",
      " [6.2 2.2 4.5 1.5]\n",
      " [5.6 2.5 3.9 1.1]\n",
      " [5.9 3.2 4.8 1.8]\n",
      " [6.1 2.8 4.  1.3]\n",
      " [6.3 2.5 4.9 1.5]\n",
      " [6.1 2.8 4.7 1.2]\n",
      " [6.4 2.9 4.3 1.3]\n",
      " [6.6 3.  4.4 1.4]\n",
      " [6.8 2.8 4.8 1.4]\n",
      " [6.7 3.  5.  1.7]\n",
      " [6.  2.9 4.5 1.5]\n",
      " [5.7 2.6 3.5 1. ]\n",
      " [5.5 2.4 3.8 1.1]\n",
      " [5.5 2.4 3.7 1. ]\n",
      " [5.8 2.7 3.9 1.2]\n",
      " [6.  2.7 5.1 1.6]\n",
      " [5.4 3.  4.5 1.5]\n",
      " [6.  3.4 4.5 1.6]\n",
      " [6.7 3.1 4.7 1.5]\n",
      " [6.3 2.3 4.4 1.3]\n",
      " [5.6 3.  4.1 1.3]\n",
      " [5.5 2.5 4.  1.3]\n",
      " [5.5 2.6 4.4 1.2]\n",
      " [6.1 3.  4.6 1.4]\n",
      " [5.8 2.6 4.  1.2]\n",
      " [5.  2.3 3.3 1. ]\n",
      " [5.6 2.7 4.2 1.3]\n",
      " [5.7 3.  4.2 1.2]\n",
      " [5.7 2.9 4.2 1.3]\n",
      " [6.2 2.9 4.3 1.3]\n",
      " [5.1 2.5 3.  1.1]\n",
      " [5.7 2.8 4.1 1.3]\n",
      " [6.3 3.3 6.  2.5]\n",
      " [5.8 2.7 5.1 1.9]\n",
      " [7.1 3.  5.9 2.1]\n",
      " [6.3 2.9 5.6 1.8]\n",
      " [6.5 3.  5.8 2.2]\n",
      " [7.6 3.  6.6 2.1]\n",
      " [4.9 2.5 4.5 1.7]\n",
      " [7.3 2.9 6.3 1.8]\n",
      " [6.7 2.5 5.8 1.8]\n",
      " [7.2 3.6 6.1 2.5]\n",
      " [6.5 3.2 5.1 2. ]\n",
      " [6.4 2.7 5.3 1.9]\n",
      " [6.8 3.  5.5 2.1]\n",
      " [5.7 2.5 5.  2. ]\n",
      " [5.8 2.8 5.1 2.4]\n",
      " [6.4 3.2 5.3 2.3]\n",
      " [6.5 3.  5.5 1.8]\n",
      " [7.7 3.8 6.7 2.2]\n",
      " [7.7 2.6 6.9 2.3]\n",
      " [6.  2.2 5.  1.5]\n",
      " [6.9 3.2 5.7 2.3]\n",
      " [5.6 2.8 4.9 2. ]\n",
      " [7.7 2.8 6.7 2. ]\n",
      " [6.3 2.7 4.9 1.8]\n",
      " [6.7 3.3 5.7 2.1]\n",
      " [7.2 3.2 6.  1.8]\n",
      " [6.2 2.8 4.8 1.8]\n",
      " [6.1 3.  4.9 1.8]\n",
      " [6.4 2.8 5.6 2.1]\n",
      " [7.2 3.  5.8 1.6]\n",
      " [7.4 2.8 6.1 1.9]\n",
      " [7.9 3.8 6.4 2. ]\n",
      " [6.4 2.8 5.6 2.2]\n",
      " [6.3 2.8 5.1 1.5]\n",
      " [6.1 2.6 5.6 1.4]\n",
      " [7.7 3.  6.1 2.3]\n",
      " [6.3 3.4 5.6 2.4]\n",
      " [6.4 3.1 5.5 1.8]\n",
      " [6.  3.  4.8 1.8]\n",
      " [6.9 3.1 5.4 2.1]\n",
      " [6.7 3.1 5.6 2.4]\n",
      " [6.9 3.1 5.1 2.3]\n",
      " [5.8 2.7 5.1 1.9]\n",
      " [6.8 3.2 5.9 2.3]\n",
      " [6.7 3.3 5.7 2.5]\n",
      " [6.7 3.  5.2 2.3]\n",
      " [6.3 2.5 5.  1.9]\n",
      " [6.5 3.  5.2 2. ]\n",
      " [6.2 3.4 5.4 2.3]\n",
      " [5.9 3.  5.1 1.8]]\n"
     ]
    }
   ],
   "source": [
    "#print data\n",
    "print(iris.data)"
   ]
  },
  {
   "cell_type": "code",
   "execution_count": 12,
   "metadata": {},
   "outputs": [
    {
     "name": "stdout",
     "output_type": "stream",
     "text": [
      "Number of data points :: 150\n",
      "Number of features :: 4\n"
     ]
    }
   ],
   "source": [
    "#importing\n",
    "from sklearn.svm import SVC\n",
    "import matplotlib.pyplot as plt\n",
    "from mpl_toolkits.mplot3d import Axes3D\n",
    "from sklearn import datasets\n",
    "from sklearn.decomposition import PCA\n",
    "from sklearn.preprocessing import StandardScaler\n",
    "from sklearn.model_selection import train_test_split\n",
    "from sklearn.svm import LinearSVC\n",
    "from sklearn.model_selection import GridSearchCV\n",
    "from sklearn.metrics import classification_report\n",
    "from sklearn.model_selection import GridSearchCV\n",
    "%matplotlib inline\n",
    "\n",
    "# import some data to play with\n",
    "iris = datasets.load_iris()\n",
    "X = iris.data[:, :]\n",
    "y = iris.target\n",
    "print (\"Number of data points ::\", X.shape[0])\n",
    "print(\"Number of features ::\", X.shape[1])"
   ]
  },
  {
   "cell_type": "code",
   "execution_count": 28,
   "metadata": {},
   "outputs": [],
   "source": [
    "#train test\n",
    "X_train, X_test, y_train, y_test = train_test_split(\n",
    "                        X_reduced, y, test_size=0.3, random_state=42)"
   ]
  },
  {
   "cell_type": "code",
   "execution_count": 34,
   "metadata": {},
   "outputs": [
    {
     "data": {
      "text/plain": [
       "(105, 3)"
      ]
     },
     "execution_count": 34,
     "metadata": {},
     "output_type": "execute_result"
    }
   ],
   "source": [
    "#train shape\n",
    "X_train.shape"
   ]
  },
  {
   "cell_type": "code",
   "execution_count": 40,
   "metadata": {},
   "outputs": [
    {
     "data": {
      "text/plain": [
       "array([[ 0.02345269, -1.57247559, -0.24155228],\n",
       "       [ 1.11414774, -0.29292262, -0.18348839],\n",
       "       [ 1.3462921 ,  0.42243061,  0.18087548],\n",
       "       [ 0.87427365,  0.25079339, -0.47257895],\n",
       "       [ 2.25977735,  1.92101038,  0.3975519 ],\n",
       "       [ 0.22771687, -0.38492008,  0.15621315],\n",
       "       [ 2.75187334,  0.8004092 , -0.5823091 ],\n",
       "       [ 0.35025167, -0.19631173,  0.49087307],\n",
       "       [-2.26470281,  0.4800266 , -0.12770602],\n",
       "       [ 2.89765149,  0.41364106, -0.85742182],\n",
       "       [ 0.15881005, -0.79209574, -0.30203717],\n",
       "       [-2.13956345,  0.31321781, -0.27115024],\n",
       "       [-2.28647514,  0.44171539,  0.03489491],\n",
       "       [-2.13705901,  1.14222926,  0.24843356],\n",
       "       [-0.11019628, -2.65407282, -0.04679044],\n",
       "       [ 1.33323218, -0.48181122, -0.00542836],\n",
       "       [-2.22716331,  0.13725446,  0.11799354],\n",
       "       [-1.95184633, -0.62561859, -0.30564098],\n",
       "       [-1.81866953,  0.08555853,  0.0344886 ],\n",
       "       [ 0.28858624, -0.85573032,  0.13088969],\n",
       "       [-2.16971071,  0.26887896, -0.17588382],\n",
       "       [ 0.09136066, -0.18119213,  0.12897834],\n",
       "       [ 2.42632899,  2.55666125, -0.12788146],\n",
       "       [-2.39437631, -0.38624687,  0.1394679 ],\n",
       "       [ 0.57638829, -0.1548736 , -0.27165036],\n",
       "       [ 1.2601151 , -1.16226042,  0.58024929],\n",
       "       [-2.44617739,  2.15072788, -0.08266805],\n",
       "       [ 0.92482492,  0.0172231 ,  0.41682619],\n",
       "       [ 1.15788161, -0.69886986,  0.53016015],\n",
       "       [ 0.56210831, -1.76472438, -0.76577139],\n",
       "       [ 0.22397877, -0.28777351,  0.66524972],\n",
       "       [ 1.37278779,  1.01125442,  0.93339524],\n",
       "       [ 0.40748306, -1.75440399, -0.02310177],\n",
       "       [-2.07563095,  1.48917752,  0.02696829],\n",
       "       [-0.36218338, -2.01923787,  0.10582105],\n",
       "       [ 1.60267867, -0.42170045,  0.02318641],\n",
       "       [-2.20383344,  0.00921636, -0.15302949],\n",
       "       [-2.2078089 , -0.2061074 , -0.22544158],\n",
       "       [ 0.13079518, -1.56227183, -0.14998348],\n",
       "       [ 1.35840512,  0.33131168, -0.26082658],\n",
       "       [-2.10997488, -0.46020184, -0.17027486],\n",
       "       [ 1.4676452 , -0.44227159,  1.00386957],\n",
       "       [-2.23284716,  0.22314807, -0.0886955 ],\n",
       "       [-1.96444768,  0.47232667,  0.30960132],\n",
       "       [ 0.73768265,  0.39657156,  0.61652631],\n",
       "       [-0.44766702, -1.54379203,  0.19040093],\n",
       "       [ 2.0377163 ,  0.91046741,  0.23479948],\n",
       "       [ 1.06109461, -0.63384324,  0.10531139],\n",
       "       [ 1.2024733 , -0.81131527, -0.16472376],\n",
       "       [ 2.79877045,  0.85680333, -0.5429065 ],\n",
       "       [ 0.28347724, -1.32932464,  0.08941002],\n",
       "       [-2.33464048, -1.11532768,  0.14507686],\n",
       "       [-2.6331007 , -0.96150673,  0.18079608],\n",
       "       [ 1.26376667, -1.70674538, -0.26753689],\n",
       "       [ 1.95432671,  1.0077776 , -0.41998472],\n",
       "       [-2.29938422, -0.59739451,  0.09129011],\n",
       "       [-2.19034951,  0.48883832, -0.04421532],\n",
       "       [-2.42963258, -0.90418004,  0.19325466],\n",
       "       [ 1.2341781 , -0.93332573, -0.36841227],\n",
       "       [ 1.57625591,  1.06858111,  0.94585382],\n",
       "       [-2.44402884,  0.0476442 ,  0.3354704 ],\n",
       "       [ 1.8839007 ,  0.41924965,  0.02633841],\n",
       "       [ 1.84456887,  0.87042131,  1.00540102],\n",
       "       [-2.36422905, -0.34190802,  0.04420148],\n",
       "       [ 0.71956189, -0.18622461, -0.06865895],\n",
       "       [ 1.0754747 , -0.20842105, -0.39825552],\n",
       "       [ 1.17510363, -0.31639447,  0.12993776],\n",
       "       [ 1.10178118,  0.86297242, -0.68458616],\n",
       "       [ 1.59007732,  0.67624481,  0.63842871],\n",
       "       [-2.38473317,  1.1204297 ,  0.05721786],\n",
       "       [ 1.85204505,  0.67612817, -0.01267211],\n",
       "       [ 0.44069345, -0.06329519,  0.20507382],\n",
       "       [ 1.5211705 ,  0.26906914,  0.18017838],\n",
       "       [-0.04025861, -1.05871855, -0.31957333],\n",
       "       [ 0.01142619, -1.03401828,  0.53889939],\n",
       "       [ 0.62456979,  0.02492303, -0.02048115],\n",
       "       [-1.85812246, -2.33741516, -0.20423422],\n",
       "       [ 0.92790164,  0.03222608, -0.59616936],\n",
       "       [ 0.27907778, -1.12002852,  0.0944876 ],\n",
       "       [-2.22944655,  0.99795976, -0.18149278],\n",
       "       [ 0.06958832, -0.21950333,  0.29157927],\n",
       "       [ 2.30243944,  0.42006558, -0.65170644],\n",
       "       [ 1.7007339 ,  1.01392187,  0.29845061],\n",
       "       [-2.20701284,  0.92412143,  0.15986528],\n",
       "       [-0.48732274, -1.85242909,  0.24926527],\n",
       "       [ 1.9981471 ,  1.04916875,  0.63241344],\n",
       "       [ 1.86364755,  0.56229073, -0.71563412],\n",
       "       [-2.52733191,  0.59229277,  0.01943581],\n",
       "       [ 2.01481043,  0.61388564,  0.42833284],\n",
       "       [-2.08096115, -0.67413356, -0.23460885],\n",
       "       [ 1.24097932,  0.61629765, -0.55400684],\n",
       "       [ 2.43595373,  0.25928443, -0.72781615],\n",
       "       [ 1.44015066, -0.04698759,  0.16363011],\n",
       "       [ 0.25673059, -0.5988518 ,  0.09187916],\n",
       "       [ 1.47143146,  0.25562182,  0.03743126],\n",
       "       [ 1.04453138, -1.38298872, -0.68829596],\n",
       "       [ 0.70266118, -0.06341182, -0.44602701],\n",
       "       [ 0.97798073, -0.57176432,  0.8281272 ],\n",
       "       [ 0.96065603, -0.02433167,  0.52824881],\n",
       "       [-1.914323  ,  0.40885571, -0.42129259],\n",
       "       [ 0.47628719, -0.41732028, -0.26495223],\n",
       "       [ 0.36701769, -1.56150289,  0.98689327],\n",
       "       [-2.1987406 ,  1.86005711, -0.472901  ],\n",
       "       [ 0.33653037, -0.98840402, -0.19938976],\n",
       "       [ 2.20526679,  0.56201048, -0.20291417]])"
      ]
     },
     "execution_count": 40,
     "metadata": {},
     "output_type": "execute_result"
    }
   ],
   "source": [
    "#train_data\n",
    "X_train"
   ]
  },
  {
   "cell_type": "code",
   "execution_count": 35,
   "metadata": {},
   "outputs": [
    {
     "data": {
      "text/plain": [
       "(45, 3)"
      ]
     },
     "execution_count": 35,
     "metadata": {},
     "output_type": "execute_result"
    }
   ],
   "source": [
    "#test shape\n",
    "X_test.shape"
   ]
  },
  {
   "cell_type": "code",
   "execution_count": 41,
   "metadata": {},
   "outputs": [
    {
     "data": {
      "text/plain": [
       "array([[ 0.6328582 , -0.41638772, -0.29189625],\n",
       "       [-1.898572  ,  1.40501879, -0.37434327],\n",
       "       [ 3.31069558,  0.01778095, -0.7033053 ],\n",
       "       [ 0.66480037, -0.22592785,  0.08586389],\n",
       "       [ 1.25650912, -0.07725602, -0.727155  ],\n",
       "       [-1.83159477,  0.42369507, -0.27046738],\n",
       "       [-0.0333547 , -0.43900321,  0.19493289],\n",
       "       [ 1.90178409,  0.68957549,  0.13007501],\n",
       "       [ 1.22509363, -1.6222438 , -0.48230402],\n",
       "       [ 0.24153827, -0.77725638, -0.15121196],\n",
       "       [ 1.36417549,  0.69275645,  0.28461207],\n",
       "       [-2.2184509 , -0.72867617, -0.23091124],\n",
       "       [-2.04514621,  0.66155811, -0.48453741],\n",
       "       [-2.18432817, -0.46901356, -0.25376557],\n",
       "       [-2.34336905,  1.12784938,  0.13263047],\n",
       "       [ 0.74652974,  0.77301931,  0.1489694 ],\n",
       "       [ 1.86781222,  0.29504482,  0.39562837],\n",
       "       [ 0.1649179 , -1.30260923, -0.17283781],\n",
       "       [ 0.38868734, -0.59328364,  0.12419155],\n",
       "       [ 1.86270322, -0.17854949,  0.35414871],\n",
       "       [-2.26526149, -0.3377319 ,  0.06843578],\n",
       "       [ 1.02095055,  0.06434603,  0.33771597],\n",
       "       [-2.05115137,  0.24216355,  0.08636401],\n",
       "       [ 1.78834992, -0.18736121,  0.27065801],\n",
       "       [ 2.30492772,  2.62632347, -0.49347381],\n",
       "       [ 1.87050329,  0.38696608,  0.25627385],\n",
       "       [ 2.00668647, -0.71143865, -0.39399057],\n",
       "       [ 2.04055823,  0.8675206 ,  0.338144  ],\n",
       "       [-2.0697443 , -0.71105273, -0.06392983],\n",
       "       [-2.14012214, -0.50454069, -0.07500844],\n",
       "       [-2.7743447 ,  0.45834367,  0.3321791 ],\n",
       "       [-2.26221453,  2.68628449,  0.03052661],\n",
       "       [ 0.87540719,  0.50906396, -0.50351138],\n",
       "       [-2.32613087,  0.13307834,  0.09375924],\n",
       "       [-2.5536384 , -0.47910069,  0.30576645],\n",
       "       [ 1.56458048, -0.89668681, -0.02637135],\n",
       "       [ 0.73133743,  0.59461473, -0.09412172],\n",
       "       [-2.16857717,  0.52714953, -0.20681625],\n",
       "       [-2.38984217,  0.64683538,  0.0157382 ],\n",
       "       [-2.61494794,  1.79357586,  0.04722842],\n",
       "       [ 1.15788161, -0.69886986,  0.53016015],\n",
       "       [ 0.42913912,  0.84558224,  0.45063407],\n",
       "       [ 1.04872805,  0.5220518 , -0.39578638],\n",
       "       [-2.2075877 ,  1.48360936, -0.00534409],\n",
       "       [-2.1663101 ,  1.04369065, -0.2686811 ]])"
      ]
     },
     "execution_count": 41,
     "metadata": {},
     "output_type": "execute_result"
    }
   ],
   "source": [
    "#test_data\n",
    "X_test"
   ]
  },
  {
   "cell_type": "code",
   "execution_count": 42,
   "metadata": {},
   "outputs": [],
   "source": [
    "###\n",
    "scaler = StandardScaler()\n",
    "X_scaled = scaler.fit_transform(X)"
   ]
  },
  {
   "cell_type": "code",
   "execution_count": 29,
   "metadata": {},
   "outputs": [
    {
     "data": {
      "image/png": "[encoded data removed]",
      "text/plain": [
       "<Figure size 1152x648 with 1 Axes>"
      ]
     },
     "metadata": {
      "needs_background": "light"
     },
     "output_type": "display_data"
    },
    {
     "name": "stdout",
     "output_type": "stream",
     "text": [
      "The number of features in the new subspace is  3\n"
     ]
    }
   ],
   "source": [
    "#3d graph plot\n",
    "fig = plt.figure(1, figsize=(16, 9))\n",
    "ax = Axes3D(fig, elev=-150, azim=110)\n",
    "X_reduced = PCA(n_components=3).fit_transform(X_scaled)\n",
    "ax.scatter(X_reduced[:, 0], X_reduced[:, 1], X_reduced[:, 2], c=y,\n",
    "           cmap=plt.cm.Set1, edgecolor='k', s=40)\n",
    "ax.set_title(\"First three PCA directions\")\n",
    "ax.set_xlabel(\"1st eigenvector\")\n",
    "ax.w_xaxis.set_ticklabels([])\n",
    "ax.set_ylabel(\"2nd eigenvector\")\n",
    "ax.w_yaxis.set_ticklabels([])\n",
    "ax.set_zlabel(\"3rd eigenvector\")\n",
    "ax.w_zaxis.set_ticklabels([])\n",
    "\n",
    "plt.show()\n",
    "print(\"The number of features in the new subspace is \" ,X_reduced.shape[1])"
   ]
  },
  {
   "cell_type": "code",
   "execution_count": 30,
   "metadata": {},
   "outputs": [
    {
     "name": "stdout",
     "output_type": "stream",
     "text": [
      "Accuracy of linear SVC on training set: 0.95\n",
      "Accuracy of linear SVC on test set: 1.00\n"
     ]
    },
    {
     "name": "stderr",
     "output_type": "stream",
     "text": [
      "C:\\Users\\basne\\anaconda3\\lib\\site-packages\\sklearn\\svm\\_base.py:976: ConvergenceWarning: Liblinear failed to converge, increase the number of iterations.\n",
      "  warnings.warn(\"Liblinear failed to converge, increase \"\n"
     ]
    }
   ],
   "source": [
    "#Finding Linear SVC\n",
    "clf = LinearSVC(penalty='l2', loss='squared_hinge',\n",
    "                dual=True, tol=0.0001, C=100, multi_class='ovr',\n",
    "                fit_intercept=True, intercept_scaling=1, class_weight=None,verbose=0\n",
    "                , random_state=0, max_iter=1000)\n",
    "clf.fit(X_train,y_train)\n",
    "\n",
    "#print\n",
    "print('Accuracy of linear SVC on training set: {:.2f}'.format(clf.score(X_train, y_train)))\n",
    "print('Accuracy of linear SVC on test set: {:.2f}'.format(clf.score(X_test, y_test)))"
   ]
  },
  {
   "cell_type": "code",
   "execution_count": 31,
   "metadata": {},
   "outputs": [
    {
     "name": "stdout",
     "output_type": "stream",
     "text": [
      "The best parameters are {'C': 3.8333906907121404} with a score of 94\n",
      "Best estimator accuracy on test set 100.00 \n"
     ]
    }
   ],
   "source": [
    "#tunning C parameter\n",
    "c = np.logspace(start = -15, stop = 1000, base = 1.02)\n",
    "param_grid = {'C': c}\n",
    "\n",
    "grid = GridSearchCV(clf, param_grid =param_grid, cv=3, n_jobs=-1, scoring='accuracy')\n",
    "grid.fit(X_train, y_train)\n",
    "\n",
    "#printing\n",
    "print(\"The best parameters are %s with a score of %0.0f\" % (grid.best_params_, grid.best_score_ * 100 ))\n",
    "print( \"Best estimator accuracy on test set {:.2f} \".format(grid.best_estimator_.score(X_test, y_test) * 100 ) )"
   ]
  },
  {
   "cell_type": "code",
   "execution_count": 32,
   "metadata": {},
   "outputs": [
    {
     "name": "stdout",
     "output_type": "stream",
     "text": [
      "Accuracy of SVC on training set: 99.05\n",
      "Accuracy of SVC on test set: 100.00\n"
     ]
    }
   ],
   "source": [
    "#linear\n",
    "clf_SVC = SVC(C=100.0, kernel='rbf', degree=3, gamma='auto', coef0=0.0, shrinking=True, \n",
    "          probability=False, tol=0.001, cache_size=200, class_weight=None, \n",
    "          verbose=0, max_iter=-1, decision_function_shape=\"ovr\", random_state = 0)\n",
    "clf_SVC.fit(X_train,y_train)\n",
    "\n",
    "#printing\n",
    "print('Accuracy of SVC on training set: {:.2f}'.format(clf_SVC.score(X_train, y_train) * 100))\n",
    "print('Accuracy of SVC on test set: {:.2f}'.format(clf_SVC.score(X_test, y_test) * 100))"
   ]
  },
  {
   "cell_type": "code",
   "execution_count": 33,
   "metadata": {},
   "outputs": [
    {
     "name": "stdout",
     "output_type": "stream",
     "text": [
      "the generated array of c values\n",
      "[1.00000000e+00 1.07252413e+00 1.15030800e+00 1.23373308e+00\n",
      " 1.32320850e+00 1.41917304e+00 1.52209732e+00 1.63248610e+00\n",
      " 1.75088073e+00 1.87786182e+00 2.01405211e+00 2.16011948e+00\n",
      " 2.31678026e+00 2.48480272e+00 2.66501086e+00 2.85828845e+00\n",
      " 3.06558332e+00 3.28791207e+00 3.52636502e+00 3.78211156e+00\n",
      " 4.05640590e+00 4.35059319e+00 4.66611616e+00 5.00452215e+00\n",
      " 5.36747075e+00 5.75674188e+00 6.17424455e+00 6.62202624e+00\n",
      " 7.10228290e+00 7.61736977e+00 8.16981285e+00 8.76232139e+00\n",
      " 9.39780109e+00 1.00793684e+01 1.08103658e+01 1.15943781e+01\n",
      " 1.24352503e+01 1.33371059e+01 1.43043679e+01 1.53417796e+01\n",
      " 1.64544288e+01 1.76477719e+01 1.89276611e+01 2.03003732e+01\n",
      " 2.17726400e+01 2.33516817e+01 2.50452420e+01 2.68616263e+01\n",
      " 2.88097423e+01 3.08991436e+01 3.31400770e+01 3.55435321e+01\n",
      " 3.81212958e+01 4.08860094e+01 4.38512315e+01 4.70315038e+01\n",
      " 5.04424225e+01 5.41007151e+01 5.80243221e+01 6.22324854e+01\n",
      " 6.67458420e+01 7.15865259e+01 7.67782761e+01 8.23465535e+01\n",
      " 8.83186653e+01 9.47238993e+01 1.01593667e+02 1.08961659e+02\n",
      " 1.16864008e+02 1.25339468e+02 1.34429604e+02 1.44178993e+02\n",
      " 1.54635449e+02 1.65850250e+02 1.77878394e+02 1.90778869e+02\n",
      " 2.04614940e+02 2.19454460e+02 2.35370203e+02 2.52440221e+02\n",
      " 2.70748227e+02 2.90384006e+02 3.11443852e+02 3.34031045e+02\n",
      " 3.58256355e+02 3.84238584e+02 4.12105151e+02 4.41992717e+02\n",
      " 4.74047853e+02 5.08427759e+02 5.45301038e+02 5.84848519e+02\n",
      " 6.27264147e+02 6.72755931e+02 7.21546967e+02 7.73876530e+02\n",
      " 8.30001249e+02 8.90196364e+02 9.54757077e+02 1.02400000e+03]\n",
      "\n",
      " Array of means \n",
      "\n",
      "[0.92166667 0.92166667 0.92166667 0.92166667 0.92166667 0.92166667\n",
      " 0.92166667 0.92166667 0.92166667 0.92166667 0.92166667 0.93166667\n",
      " 0.93166667 0.93166667 0.93166667 0.93166667 0.93166667 0.93166667\n",
      " 0.93166667 0.93166667 0.93166667 0.93166667 0.93166667 0.93166667\n",
      " 0.93166667 0.93166667 0.93166667 0.93166667 0.93166667 0.93166667\n",
      " 0.93166667 0.93166667 0.93166667 0.94166667 0.94166667 0.94166667\n",
      " 0.94166667 0.94166667 0.94166667 0.94166667 0.94166667 0.93166667\n",
      " 0.93166667 0.93166667 0.92166667 0.92166667 0.92166667 0.92166667\n",
      " 0.92166667 0.91166667 0.91166667 0.91166667 0.91166667 0.91166667\n",
      " 0.91166667 0.91166667 0.91166667 0.91166667 0.91166667 0.91166667\n",
      " 0.91166667 0.91166667 0.91166667 0.91166667 0.90333333 0.90333333\n",
      " 0.90333333 0.90333333 0.90333333 0.90333333 0.90333333 0.90333333\n",
      " 0.90333333 0.90333333 0.90333333 0.90333333 0.90333333 0.90333333\n",
      " 0.90333333 0.90333333 0.90333333 0.90333333 0.90333333 0.90333333\n",
      " 0.90333333 0.90333333 0.90333333 0.90333333 0.90333333 0.90333333\n",
      " 0.89333333 0.89333333 0.88333333 0.88333333 0.88333333 0.88333333\n",
      " 0.88333333 0.88333333 0.87333333 0.87333333]\n",
      "\n",
      "Classification report\n",
      "\n",
      "              precision    recall  f1-score   support\n",
      "\n",
      "           0       1.00      1.00      1.00        19\n",
      "           1       1.00      0.92      0.96        13\n",
      "           2       0.93      1.00      0.96        13\n",
      "\n",
      "    accuracy                           0.98        45\n",
      "   macro avg       0.98      0.97      0.97        45\n",
      "weighted avg       0.98      0.98      0.98        45\n",
      "\n"
     ]
    }
   ],
   "source": [
    "#tunning parameters using grid search to optimize more\n",
    "c_SVC = np.logspace(start = 0, stop = 10, num = 100, base = 2 , dtype = 'float64')\n",
    "print( 'the generated array of c values')\n",
    "print ( c_SVC )\n",
    "param_grid_S = {'C': c_SVC}\n",
    "\n",
    "print(\"\\n Array of means \\n\")\n",
    "clf = GridSearchCV(clf_SVC, param_grid =param_grid_S, cv=20 , scoring='accuracy')\n",
    "clf.fit(X_train, y_train)\n",
    "means = clf.cv_results_['mean_test_score']\n",
    "stds = clf.cv_results_['std_test_score']\n",
    "print(means)\n",
    "\n",
    "y_true, y_pred = y_test, clf.predict(X_test)\n",
    "print( '\\nClassification report\\n' )\n",
    "print(classification_report(y_true, y_pred))"
   ]
  },
  {
   "cell_type": "code",
   "execution_count": null,
   "metadata": {},
   "outputs": [],
   "source": []
  }
 ],
 "metadata": {
  "kernelspec": {
   "display_name": "Python 3",
   "language": "python",
   "name": "python3"
  },
  "language_info": {
   "codemirror_mode": {
    "name": "ipython",
    "version": 3
   },
   "file_extension": ".py",
   "mimetype": "text/x-python",
   "name": "python",
   "nbconvert_exporter": "python",
   "pygments_lexer": "ipython3",
   "version": "3.8.5"
  }
 },
 "nbformat": 4,
 "nbformat_minor": 4
}
